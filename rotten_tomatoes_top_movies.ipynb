{
 "cells": [
  {
   "cell_type": "markdown",
   "metadata": {},
   "source": [
    "Rotten Tomatoes Top Movies By Year From 2000 to 2020"
   ]
  },
  {
   "cell_type": "code",
   "execution_count": 61,
   "metadata": {},
   "outputs": [],
   "source": [
    "#imports\n",
    "import requests\n",
    "import pymysql\n",
    "import pandas as pd\n",
    "from datetime import date\n",
    "from bs4 import BeautifulSoup"
   ]
  },
  {
   "cell_type": "code",
   "execution_count": 62,
   "metadata": {},
   "outputs": [],
   "source": [
    "# connecting to mysql DB \n",
    "con = pymysql.connect(database='rotten_tomatoes',user='root',password='root')\n",
    "cursor = con.cursor()"
   ]
  },
  {
   "cell_type": "code",
   "execution_count": 63,
   "metadata": {},
   "outputs": [],
   "source": [
    "# base url\n",
    "base_url = 'https://www.rottentomatoes.com/top/bestofrt/?year='"
   ]
  },
  {
   "cell_type": "code",
   "execution_count": 64,
   "metadata": {},
   "outputs": [],
   "source": [
    "# years for which the movies are to be scraped\n",
    "years = ['2020','2019','2018','2017','2016','2015','2014','2013','2012','2011','2010','2009','2008','2007','2006','2005','2004','2003','2002','2001','2000']"
   ]
  },
  {
   "cell_type": "code",
   "execution_count": 65,
   "metadata": {},
   "outputs": [
    {
     "output_type": "stream",
     "name": "stdout",
     "text": "Year: 2020\nStatus Code: 200\nMovies Count: 100\nYear: 2019\nStatus Code: 200\nMovies Count: 100\nYear: 2018\nStatus Code: 200\nMovies Count: 100\nYear: 2017\nStatus Code: 200\nMovies Count: 100\nYear: 2016\nStatus Code: 200\nMovies Count: 100\nYear: 2015\nStatus Code: 200\nMovies Count: 100\nYear: 2014\nStatus Code: 200\nMovies Count: 100\nYear: 2013\nStatus Code: 200\nMovies Count: 100\nYear: 2012\nStatus Code: 200\nMovies Count: 100\nYear: 2011\nStatus Code: 200\nMovies Count: 100\nYear: 2010\nStatus Code: 200\nMovies Count: 100\nYear: 2009\nStatus Code: 200\nMovies Count: 100\nYear: 2008\nStatus Code: 200\nMovies Count: 100\nYear: 2007\nStatus Code: 200\nMovies Count: 100\nYear: 2006\nStatus Code: 200\nMovies Count: 100\nYear: 2005\nStatus Code: 200\nMovies Count: 100\nYear: 2004\nStatus Code: 200\nMovies Count: 100\nYear: 2003\nStatus Code: 200\nMovies Count: 100\nYear: 2002\nStatus Code: 200\nMovies Count: 100\nYear: 2001\nStatus Code: 200\nMovies Count: 100\nYear: 2000\nStatus Code: 200\nMovies Count: 100\nProcess Completed.\n"
    }
   ],
   "source": [
    "# Looping the year to get all the data\n",
    "for year in years:\n",
    "    response = requests.get(base_url+year)\n",
    "    print('Year:',year)\n",
    "    print('Status Code:',response.status_code)\n",
    "    # get the html from webpage\n",
    "    html = response.content\n",
    "    # converting the html to beautiful soup object\n",
    "    soup = BeautifulSoup(html,'html.parser')\n",
    "    # Exporting to a html file\n",
    "    with open('Rotten_tomatoes_top_movies_'+year+'.html','wb') as file:\n",
    "        file.write(soup.prettify('utf-8'))\n",
    "    # finding all tables\n",
    "    tables = soup.findAll('table',{'class': 'table'})\n",
    "    movies = []\n",
    "    if len(items) != 0:\n",
    "        movies = items[0].findAll('tr')\n",
    "    i = 1\n",
    "    print('Movies Count:',str(len(movies) - 1))\n",
    "    while i < len(movies):\n",
    "        data = movies[i].findAll('td')\n",
    "        insert_query = \"INSERT INTO top_movies_by_year (movie_title,movie_rank,movie_rating,no_of_reviews,movie_year,date) VALUES(\\\"\"+data[2].text.strip().replace(\"'\",\"\\'\")+\"\\\",'\"+data[0].text.replace('.','')+\"','\"+data[1].text.strip()+\"','\"+data[3].text+\"','\"+year+\"','\"+str(date.today())+\"');\"\n",
    "        cursor.execute(insert_query);\n",
    "        i += 1\n",
    "\n",
    "con.commit()\n",
    "con.close()\n",
    "print('Process Completed.')"
   ]
  }
 ],
 "metadata": {
  "language_info": {
   "codemirror_mode": {
    "name": "ipython",
    "version": 3
   },
   "file_extension": ".py",
   "mimetype": "text/x-python",
   "name": "python",
   "nbconvert_exporter": "python",
   "pygments_lexer": "ipython3",
   "version": "3.7.6-final"
  },
  "orig_nbformat": 2,
  "kernelspec": {
   "name": "python37364bitbaseconda1e97a5aac42d44f8a6cc1f064361dc78",
   "display_name": "Python 3.7.3 64-bit ('base': conda)"
  }
 },
 "nbformat": 4,
 "nbformat_minor": 2
}